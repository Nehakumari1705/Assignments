{
 "cells": [
  {
   "cell_type": "markdown",
   "id": "34c1d4f4",
   "metadata": {},
   "source": [
    "### Q1. Create a python program to sort the given list of tuples based on integer value using a lambda function. \n",
    "\n",
    "[('Sachin Tendulkar', 34357), ('Ricky Ponting', 27483), ('Jack Kallis', 25534), ('Virat Kohli', 24936)]"
   ]
  },
  {
   "cell_type": "markdown",
   "id": "d34fdad9",
   "metadata": {},
   "source": [
    "#### Ans- Here's a Python program that sorts the given list of tuples based on the integer value using a lambda function:"
   ]
  },
  {
   "cell_type": "code",
   "execution_count": 1,
   "id": "84fcf222",
   "metadata": {},
   "outputs": [
    {
     "name": "stdout",
     "output_type": "stream",
     "text": [
      "[('Sachin Tendulkar', 34357), ('Ricky Ponting', 27483), ('Jack Kallis', 25534), ('Virat Kohli', 24936)]\n"
     ]
    }
   ],
   "source": [
    "lst = [('Sachin Tendulkar', 34357), ('Ricky Ponting', 27483), ('Jack Kallis', 25534), ('Virat Kohli', 24936)]\n",
    "lst.sort(key=lambda x:x[1],reverse= True)\n",
    "print(lst)"
   ]
  },
  {
   "cell_type": "markdown",
   "id": "982c466e",
   "metadata": {},
   "source": [
    "#### In this program , we first define the list of tuples, \"lst\". Then we use the \"sort\" method to sort the list based on the second element of each tuple,which is an integer. We use a lambda function as the key to sort the list . The lambda function takes a tuple 'x' as an argument and reteurns the second element of the tuple 'x[1]'. We also set the 'reverse' parameter of the 'sort' method to 'True' to sort the list in descending order. Finally,we print the sorted lists."
   ]
  },
  {
   "cell_type": "markdown",
   "id": "eefec009",
   "metadata": {},
   "source": [
    "#### Q2. Write a Python Program to find the squares of all the numbers in the given list of integers using lambda and map functions.\n",
    "[1, 2, 3, 4, 5, 6, 7, 8, 9, 10]"
   ]
  },
  {
   "cell_type": "markdown",
   "id": "ec010fc2",
   "metadata": {},
   "source": [
    "#### Ans- Here's a Python program to find the squares of all the numbers in the given list of integers using lambda and map functions:"
   ]
  },
  {
   "cell_type": "code",
   "execution_count": 2,
   "id": "97fc86d9",
   "metadata": {},
   "outputs": [
    {
     "name": "stdout",
     "output_type": "stream",
     "text": [
      "[1, 4, 9, 16, 25, 36, 49, 64, 81, 100]\n"
     ]
    }
   ],
   "source": [
    "integers=[1, 2, 3, 4, 5, 6, 7, 8, 9, 10]\n",
    "square=lambda x:x**2\n",
    "squares=list(map(square,integers))\n",
    "print(squares)"
   ]
  },
  {
   "cell_type": "markdown",
   "id": "ae6ef6d4",
   "metadata": {},
   "source": [
    "#### In this program,we first define the list of integers . We then define a lambda function called \"square\" that takes an input \"x\" and returns its square. We use the \"map\" function to apply this \"square\" function to apply this \"square\" function to each integer in the list,and we convert the result to a list 'list()' function. Finally, we print the list of squares using the 'print()' function."
   ]
  },
  {
   "cell_type": "markdown",
   "id": "74a4771c",
   "metadata": {},
   "source": [
    "#### Q3. Write a python program to convert the given list of integers into a tuple of strings. Use map and lambda functions .Given String: [1, 2, 3, 4, 5, 6, 7, 8, 9, 10].  Expected output: ('1', '2', '3', '4', '5', '6', '7', '8', '9', '10')"
   ]
  },
  {
   "cell_type": "markdown",
   "id": "c96f237c",
   "metadata": {},
   "source": [
    "#### Ans- Here's a Python code that uses a map and lambda functions to convert the given list of integers into a tuple of strings:"
   ]
  },
  {
   "cell_type": "markdown",
   "id": "212a5534",
   "metadata": {},
   "source": [
    "numbers= [1,2,3,4,5,6,7,8,9,10]\n",
    "string_numbers=tuple(map(lambda x:str(x),numbers))\n",
    "print(string_numbers)"
   ]
  },
  {
   "cell_type": "markdown",
   "id": "ef0b98d1",
   "metadata": {},
   "source": [
    "#### In this program , we first define a list of integers called  'numbers'. We then use the 'map' function along with a 'lambda' function to convert each integer in the list to a string. The 'lambda' function takes a single argument , 'x' and returns its string representation using the 'str()' function. The 'map' function applies this lambda function to each element of the list, and returns an iterator that we convert into a tuple using the 'tuple()' function. Finally, we priint the tuple of string values of the original list of integers."
   ]
  },
  {
   "cell_type": "markdown",
   "id": "564b8c31",
   "metadata": {},
   "source": [
    "#### Q4. Write a python program using reduce function to compute the product of a list containing numbers from 1 to 25."
   ]
  },
  {
   "cell_type": "markdown",
   "id": "9b805c8f",
   "metadata": {},
   "source": [
    "#### Ans- Here's the Python code that uses the 'reduce' function to compute the product of  a list containing numbers from 1 to 25."
   ]
  },
  {
   "cell_type": "code",
   "execution_count": 3,
   "id": "3e0fd97b",
   "metadata": {},
   "outputs": [
    {
     "name": "stdout",
     "output_type": "stream",
     "text": [
      "15511210043330985984000000\n"
     ]
    }
   ],
   "source": [
    "from functools import reduce\n",
    "\n",
    "numbers= list(range(1,26))\n",
    "product = reduce(lambda x,y:x*y,numbers)\n",
    "print(product)"
   ]
  },
  {
   "cell_type": "markdown",
   "id": "cfcd5b26",
   "metadata": {},
   "source": [
    "#### In this program, we first import the 'reduce' function from the 'functools' module . We then create a list of numbers using the 'range ' function and the 'list ' constructor , which generates a list of integers from 1 to 25. We then use the 'reduce' funtion to multiply all the numbers in the list together. The lambda function passed to 'reduce' takes two arguments 'x' and 'y' and returns their product using the  \"* \" operator . The 'reduce' function applies this lambda function to the list of numbers from left to right, accumulating the result,until it reduces the entire list to a single value . The final value is the product of all the numbers in the original list . Finally, we print the result."
   ]
  },
  {
   "cell_type": "markdown",
   "id": "f6e9b6ea",
   "metadata": {},
   "source": [
    "#### Q5. Write a python program to filter the numbers in a given list that are divisible by 2 and 3 using the filter function.\n",
    "[2, 3, 6, 9, 27, 60, 90, 120, 55, 46]"
   ]
  },
  {
   "cell_type": "markdown",
   "id": "c4b9087a",
   "metadata": {},
   "source": [
    "#### Here's a Python code that uses the 'filter' function to filter the numbers in a given list that are divisible by 2 and 3 :"
   ]
  },
  {
   "cell_type": "code",
   "execution_count": 4,
   "id": "c6f9ddc2",
   "metadata": {},
   "outputs": [
    {
     "name": "stdout",
     "output_type": "stream",
     "text": [
      "[6, 60, 90, 120]\n"
     ]
    }
   ],
   "source": [
    "numbers= [2,3,6,9,27,60,90,120,55,46]\n",
    "filtered_numbers = list(filter(lambda x:x%2 == 0 and x % 3 == 0,numbers))\n",
    "print(filtered_numbers)"
   ]
  },
  {
   "cell_type": "markdown",
   "id": "00fd56ae",
   "metadata": {},
   "source": [
    "#### In this program,we first define a list of numbers called 'numbers'. We then use the 'filter' function along with a 'lambda' function to filter the elements of the list that are divisibile by 2 and 3 . The 'lambda' function takes a single aregument 'x' and returns 'True' if  'x' is divisible by 2 and 3 (i.e , if 'x' leaves a remainder of 0 when divided by 2 and 3 ) and ' False' otherwise. The 'filter' fuction applies this lambda function to each element of the list, and returns an iterator that we convert into a list using the 'list()' function. Finally, we print the list of filtered numbers."
   ]
  },
  {
   "cell_type": "markdown",
   "id": "f7335c11",
   "metadata": {},
   "source": [
    "#### Q6. Write a python program to find palindromes in the given list of strings using lambda and filter function.\n",
    "['python', 'php', 'aba', 'radar', 'level']"
   ]
  },
  {
   "cell_type": "markdown",
   "id": "7e964d77",
   "metadata": {},
   "source": [
    "#### Here's a Python code to find palindromes in the given llist of strings using lambda and filter function."
   ]
  },
  {
   "cell_type": "code",
   "execution_count": 10,
   "id": "a9918ea0",
   "metadata": {},
   "outputs": [
    {
     "name": "stdout",
     "output_type": "stream",
     "text": [
      "['php', 'aba', 'radar', 'level']\n"
     ]
    }
   ],
   "source": [
    "words = ['python', 'php', 'aba', 'radar', 'level']\n",
    "palindromes = list(filter(lambda word: word == word[::-1], words))\n",
    "print(palindromes)"
   ]
  },
  {
   "cell_type": "markdown",
   "id": "703c6fb6",
   "metadata": {},
   "source": [
    "#### In this program ,we first define a list of strings called 'words' . We then use the 'filter' function along with 'lambda' function to filter the pallindromes from the list. The 'lambda' function takes a single argument 'word' and returns 'True' if 'word' is a palindrome (i.e, if it reads the same forward and backwards), and 'False' otherwise. The 'filter' function applies this lambda function to each element of the list, and returns an iterator that we convert  into a list using the 'list()' function. Fiinally, we print the list of palindromes . In this case , the only palindromes in the list are 'php', 'aba' , 'radar', and 'level'."
   ]
  }
 ],
 "metadata": {
  "kernelspec": {
   "display_name": "Python 3 (ipykernel)",
   "language": "python",
   "name": "python3"
  },
  "language_info": {
   "codemirror_mode": {
    "name": "ipython",
    "version": 3
   },
   "file_extension": ".py",
   "mimetype": "text/x-python",
   "name": "python",
   "nbconvert_exporter": "python",
   "pygments_lexer": "ipython3",
   "version": "3.9.13"
  }
 },
 "nbformat": 4,
 "nbformat_minor": 5
}
